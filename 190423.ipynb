{
 "cells": [
  {
   "cell_type": "code",
   "execution_count": null,
   "metadata": {},
   "outputs": [],
   "source": [
    "# create user\n",
    "\n",
    "User.objects.create(\n",
    "    username = 'jiwon',\n",
    "    password = '123123!!'\n",
    ")\n",
    "\n",
    "User.objects.create(\n",
    "    username = 'juliet',\n",
    "    password = '123123!!'\n",
    ")\n",
    "\n",
    "# 여기서 만약 객체 생성이 정상적으로 되지 않는다면 (auth login관련 integrity error), \n",
    "# auth 관련된 migration을 날리고 다시 새로 migrate하면 됨\n",
    "# python manage.py migrate auth zero\n",
    "# python manage.py migrate auth\n",
    "# python manage.py migrate end_game\n",
    "# python manage.py migrate ==> 모든 모델 migrate 하기\n",
    "\n",
    "\n",
    "# 위의 방식으로 유저를 생성하면, 비밀번호가 암호화되지 않는다. \n",
    "# UserCreationForm을 사용해서 유저를 생성한 경우에만 비밀번호가 암호화된다.\n",
    "\n"
   ]
  },
  {
   "cell_type": "code",
   "execution_count": null,
   "metadata": {},
   "outputs": [],
   "source": [
    "from django.contrib.auth.forms import UserCreationForm"
   ]
  },
  {
   "cell_type": "code",
   "execution_count": null,
   "metadata": {},
   "outputs": [],
   "source": [
    "UserCreationForm(\n",
    "    request.POST\n",
    ")"
   ]
  },
  {
   "cell_type": "code",
   "execution_count": null,
   "metadata": {},
   "outputs": [],
   "source": [
    "# type(request.POST) # dictionary가 나옴. 따라서 아래와 같이 "
   ]
  },
  {
   "cell_type": "code",
   "execution_count": null,
   "metadata": {},
   "outputs": [],
   "source": [
    "# UserCreationForm(\n",
    "#     {\n",
    "#         'username': 'testtest',\n",
    "#         ''\n",
    "#     }\n",
    "# )"
   ]
  },
  {
   "cell_type": "code",
   "execution_count": null,
   "metadata": {},
   "outputs": [],
   "source": []
  },
  {
   "cell_type": "code",
   "execution_count": null,
   "metadata": {},
   "outputs": [],
   "source": []
  },
  {
   "cell_type": "code",
   "execution_count": null,
   "metadata": {},
   "outputs": [],
   "source": [
    "Post.objects.create(\n",
    "    title = 'hihi', \n",
    "    content = '비가 온답니다',\n",
    "    user_id = 1\n",
    ")\n",
    "\n",
    "Post.objects.create(\n",
    "    title = 'byebye', \n",
    "    content = '내일은 보충이 없다.',\n",
    "    user_id = 2\n",
    ")"
   ]
  },
  {
   "cell_type": "code",
   "execution_count": null,
   "metadata": {},
   "outputs": [],
   "source": []
  },
  {
   "cell_type": "code",
   "execution_count": null,
   "metadata": {},
   "outputs": [],
   "source": [
    "# post = Post.objects.get(user_id=1) # 1번 유저가 작성한 포스트 중 첫 번째 객체 (get은 객체 하나만 반환)\n",
    "\n",
    "\n",
    "post = Post.objects.get(id=1)\n",
    "post.user.username"
   ]
  },
  {
   "cell_type": "code",
   "execution_count": null,
   "metadata": {},
   "outputs": [],
   "source": []
  },
  {
   "cell_type": "code",
   "execution_count": 1,
   "metadata": {},
   "outputs": [
    {
     "data": {
      "text/plain": [
       "'jiwon'"
      ]
     },
     "execution_count": 1,
     "metadata": {},
     "output_type": "execute_result"
    }
   ],
   "source": [
    "user = User.objects.get(id=1)\n",
    "user.username"
   ]
  },
  {
   "cell_type": "code",
   "execution_count": 2,
   "metadata": {},
   "outputs": [
    {
     "data": {
      "text/plain": [
       "'비가 온답니다'"
      ]
     },
     "execution_count": 2,
     "metadata": {},
     "output_type": "execute_result"
    }
   ],
   "source": [
    "post = Post.objects.get(id=1)\n",
    "post.content"
   ]
  },
  {
   "cell_type": "code",
   "execution_count": 3,
   "metadata": {},
   "outputs": [],
   "source": [
    "# user가 post를 좋아한다. (북마킹한다)\n",
    "user.bookmarks.add(post)\n",
    "\n",
    "# post를 user가 좋아한다 (북마킹한다)\n",
    "post.lovers.add(user)\n",
    "\n",
    "\n",
    "# 위 두 가지는 동일한 작업을 한다."
   ]
  },
  {
   "cell_type": "code",
   "execution_count": 4,
   "metadata": {},
   "outputs": [
    {
     "data": {
      "text/plain": [
       "<QuerySet [<Post: Post object (1)>]>"
      ]
     },
     "execution_count": 4,
     "metadata": {},
     "output_type": "execute_result"
    }
   ],
   "source": [
    "user.bookmarks.all()"
   ]
  },
  {
   "cell_type": "code",
   "execution_count": 5,
   "metadata": {},
   "outputs": [
    {
     "data": {
      "text/plain": [
       "<QuerySet [<User: jiwon>]>"
      ]
     },
     "execution_count": 5,
     "metadata": {},
     "output_type": "execute_result"
    }
   ],
   "source": [
    "post.lovers.all()"
   ]
  },
  {
   "cell_type": "code",
   "execution_count": null,
   "metadata": {},
   "outputs": [],
   "source": []
  },
  {
   "cell_type": "code",
   "execution_count": null,
   "metadata": {},
   "outputs": [],
   "source": []
  }
 ],
 "metadata": {
  "kernelspec": {
   "display_name": "Django Shell-Plus",
   "language": "python",
   "name": "django_extensions"
  },
  "language_info": {
   "codemirror_mode": {
    "name": "ipython",
    "version": 3
   },
   "file_extension": ".py",
   "mimetype": "text/x-python",
   "name": "python",
   "nbconvert_exporter": "python",
   "pygments_lexer": "ipython3",
   "version": "3.7.2"
  }
 },
 "nbformat": 4,
 "nbformat_minor": 2
}
