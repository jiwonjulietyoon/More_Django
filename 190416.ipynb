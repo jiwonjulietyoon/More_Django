{
 "cells": [
  {
   "cell_type": "code",
   "execution_count": null,
   "metadata": {},
   "outputs": [],
   "source": [
    "# Dummy Data 만들기\n",
    "\n",
    "Student.objects.create(name=\"Jiwon\") # pk = 1\n",
    "Student.objects.create(name=\"Juliet\") # pk = 2"
   ]
  },
  {
   "cell_type": "code",
   "execution_count": null,
   "metadata": {},
   "outputs": [],
   "source": [
    "Article.objects.create(\n",
    "    title=\"오늘은\",\n",
    "    content=\"모델을 조진다.\",\n",
    "    writer_id=2\n",
    ")\n",
    "\n",
    "Article.objects.create(\n",
    "    title=\"화, 목은\",\n",
    "    content=\"보충수업.\",\n",
    "    writer_id=2\n",
    ")\n",
    "\n",
    "Article.objects.create(\n",
    "    title=\"강사님\",\n",
    "    content=\"화이팅\",\n",
    "    writer_id=1\n",
    ")"
   ]
  },
  {
   "cell_type": "code",
   "execution_count": null,
   "metadata": {},
   "outputs": [],
   "source": [
    "Comment.objects.create(\n",
    "    content=\"모델 어려운데..\",\n",
    "    article_id=1,\n",
    "    student_id=1,\n",
    ")\n",
    "\n",
    "Comment.objects.create(\n",
    "    content=\"집가고싶다\",\n",
    "    article_id=2,\n",
    "    student_id=2,\n",
    ")\n",
    "\n",
    "Comment.objects.create(\n",
    "    content=\"1:N과 M:N을 박살내자\",\n",
    "    article_id=1,\n",
    "    student_id=2,\n",
    ")\n",
    "\n",
    "Comment.objects.create(\n",
    "    content=\"졸려\",\n",
    "    article_id=2,\n",
    "    student_id=2,\n",
    ")\n",
    "\n",
    "Comment.objects.create(\n",
    "    content=\"화이팅팅\",\n",
    "    article_id=3,\n",
    "    student_id=1,\n",
    ")\n",
    "\n",
    "Comment.objects.create(\n",
    "    content=\"오후 7시 27분\",\n",
    "    article_id=2,\n",
    "    student_id=2,\n",
    ")"
   ]
  },
  {
   "cell_type": "code",
   "execution_count": 2,
   "metadata": {},
   "outputs": [
    {
     "data": {
      "text/plain": [
       "ledom.models.Student"
      ]
     },
     "execution_count": 2,
     "metadata": {},
     "output_type": "execute_result"
    }
   ],
   "source": [
    "Student"
   ]
  },
  {
   "cell_type": "code",
   "execution_count": 3,
   "metadata": {},
   "outputs": [
    {
     "data": {
      "text/plain": [
       "<django.db.models.manager.Manager at 0x15db5654780>"
      ]
     },
     "execution_count": 3,
     "metadata": {},
     "output_type": "execute_result"
    }
   ],
   "source": [
    "Student.objects"
   ]
  },
  {
   "cell_type": "code",
   "execution_count": 4,
   "metadata": {},
   "outputs": [
    {
     "data": {
      "text/plain": [
       "<bound method BaseManager.all of <django.db.models.manager.Manager object at 0x0000015DB5654780>>"
      ]
     },
     "execution_count": 4,
     "metadata": {},
     "output_type": "execute_result"
    }
   ],
   "source": [
    "Student.objects.all"
   ]
  },
  {
   "cell_type": "code",
   "execution_count": 6,
   "metadata": {},
   "outputs": [
    {
     "data": {
      "text/plain": [
       "<QuerySet [<Student: Student object (2)>, <Student: Student object (1)>]>"
      ]
     },
     "execution_count": 6,
     "metadata": {},
     "output_type": "execute_result"
    }
   ],
   "source": [
    "Student.objects.all()"
   ]
  },
  {
   "cell_type": "code",
   "execution_count": 7,
   "metadata": {},
   "outputs": [
    {
     "data": {
      "text/plain": [
       "<Student: Student object (1)>"
      ]
     },
     "execution_count": 7,
     "metadata": {},
     "output_type": "execute_result"
    }
   ],
   "source": [
    "Student.objects.get(id=1)"
   ]
  },
  {
   "cell_type": "code",
   "execution_count": 8,
   "metadata": {},
   "outputs": [
    {
     "data": {
      "text/plain": [
       "'Jiwon'"
      ]
     },
     "execution_count": 8,
     "metadata": {},
     "output_type": "execute_result"
    }
   ],
   "source": [
    "Student.objects.get(id=1).name"
   ]
  },
  {
   "cell_type": "code",
   "execution_count": null,
   "metadata": {},
   "outputs": [],
   "source": []
  },
  {
   "cell_type": "markdown",
   "metadata": {},
   "source": [
    "# get() v.s. filter()\n",
    "\n",
    "\n",
    "\n",
    "### get(): return only 1 object\n",
    "\n",
    "\n",
    "`Student.objects.get(name=\"Jiwon\")` => \"Jiwon\" 이라는 이름을 가진 객체가 2개 이상일 경우, get은 first encountered object 하나만 return 한다.\n",
    "\n",
    "`Student.objects.get(name=\"Random\")` => \"Random\"이라는 이름을 가진 객체가 없을 경우, raise an error\n",
    "\n",
    "### filter() => return a list\n",
    "\n",
    "`Student.objects.get(name=\"Jiwon\")` => \"Jiwon\" 이라는 이름을 가진 객체가 2개 이상일 경우, 해당하는 모든 객체를 리스트 형태로 반환한다\n",
    "\n",
    "`Student.objects.get(name=\"Random\")` => \"Random\"이라는 이름을 가진 객체가 없을 경우, return an empty list\n",
    "\n",
    "`Student.objects.filter(name__contains=\"Ji\")` => name에 \"Ji\"가 포함된 객체들을 반환"
   ]
  },
  {
   "cell_type": "code",
   "execution_count": 16,
   "metadata": {},
   "outputs": [
    {
     "data": {
      "text/plain": [
       "<QuerySet [<Comment: Comment object (6)>, <Comment: Comment object (4)>, <Comment: Comment object (3)>, <Comment: Comment object (2)>]>"
      ]
     },
     "execution_count": 16,
     "metadata": {},
     "output_type": "execute_result"
    }
   ],
   "source": [
    "student = Student.objects.get(id=2)\n",
    "\n",
    "student.article_set.all()\n",
    "\n",
    "student.comment_set.all()"
   ]
  },
  {
   "cell_type": "code",
   "execution_count": 24,
   "metadata": {},
   "outputs": [
    {
     "name": "stdout",
     "output_type": "stream",
     "text": [
      "화이팅팅\n",
      "Jiwon\n",
      "강사님 화이팅\n",
      "Jiwon\n"
     ]
    }
   ],
   "source": [
    "comment = Comment.objects.get(id=5)  # comment\n",
    "\n",
    "print(comment.content) # what the comment reads\n",
    "\n",
    "print(comment.student.name )  # who wrote the comment\n",
    "\n",
    "print(comment.article.title, comment.article.content) # which article the comment belongs to\n",
    "\n",
    "print(comment.article.writer.name) # author of the article of which the comment belongs to"
   ]
  },
  {
   "cell_type": "code",
   "execution_count": null,
   "metadata": {},
   "outputs": [],
   "source": []
  }
 ],
 "metadata": {
  "kernelspec": {
   "display_name": "Django Shell-Plus",
   "language": "python",
   "name": "django_extensions"
  },
  "language_info": {
   "codemirror_mode": {
    "name": "ipython",
    "version": 3
   },
   "file_extension": ".py",
   "mimetype": "text/x-python",
   "name": "python",
   "nbconvert_exporter": "python",
   "pygments_lexer": "ipython3",
   "version": "3.7.2"
  }
 },
 "nbformat": 4,
 "nbformat_minor": 2
}
